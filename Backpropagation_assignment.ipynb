{
 "cells": [
  {
   "cell_type": "markdown",
   "metadata": {
    "colab_type": "text",
    "id": "y871RZtRhCEH"
   },
   "source": [
    "# <font color='red'>BackPropagation</font>"
   ]
  },
  {
   "cell_type": "markdown",
   "metadata": {
    "colab_type": "text",
    "id": "LqePYi-4mFvK"
   },
   "source": [
    "**There will be some functions that start with the word \"grader\" ex: grader_sigmoid(), grader_forwardprop(), grader_backprop() etc, you should not change those function definition.<br><br>Every Grader function has to return True.**"
   ]
  },
  {
   "cell_type": "markdown",
   "metadata": {
    "colab_type": "text",
    "id": "0huUQ0byiI0I"
   },
   "source": [
    "## <font color='red'>Loading data </font>"
   ]
  },
  {
   "cell_type": "code",
   "execution_count": 9,
   "metadata": {
    "colab": {
     "base_uri": "https://localhost:8080/",
     "height": 50
    },
    "colab_type": "code",
    "id": "1hSje5CBgcUb",
    "outputId": "66535fa5-f8a2-4792-bc62-7842c93480f7"
   },
   "outputs": [
    {
     "name": "stdout",
     "output_type": "stream",
     "text": [
      "(506, 6)\n",
      "(506, 5) (506,)\n"
     ]
    }
   ],
   "source": [
    "import pickle\n",
    "import numpy as np\n",
    "from tqdm import tqdm\n",
    "import matplotlib.pyplot as plt\n",
    "\n",
    "with open('data.pkl', 'rb') as f:\n",
    "    data = pickle.load(f)\n",
    "print(data.shape)\n",
    "X = data[:, :5]\n",
    "y = data[:, -1]\n",
    "print(X.shape, y.shape)"
   ]
  },
  {
   "cell_type": "code",
   "execution_count": 10,
   "metadata": {
    "scrolled": true
   },
   "outputs": [
    {
     "data": {
      "text/plain": [
       "array([-1.2879095 , -0.12001342, -1.45900038, -0.66660821, -0.14421743])"
      ]
     },
     "execution_count": 10,
     "metadata": {},
     "output_type": "execute_result"
    }
   ],
   "source": [
    "X[0] # 5 Features respectively "
   ]
  },
  {
   "cell_type": "markdown",
   "metadata": {
    "colab_type": "text",
    "id": "5JL-0soQistC"
   },
   "source": [
    "# <font color='red'>Computational graph</font>"
   ]
  },
  {
   "cell_type": "markdown",
   "metadata": {
    "colab_type": "text",
    "id": "nREnTTJ3i0Vd"
   },
   "source": [
    "<img src='https://i.imgur.com/seSGbNS.png'>"
   ]
  },
  {
   "cell_type": "markdown",
   "metadata": {
    "colab_type": "text",
    "id": "DSPX_H_4i_HT"
   },
   "source": [
    "\n",
    "*  **If you observe the graph, we are having input features [f1, f2, f3, f4, f5] and 9 weights [w1, w2, w3, w4, w5, w6,    w7, w8, w9]**.<br><br>\n",
    "*  **The final output of this graph is a value L which is computed as (Y-Y')^2** "
   ]
  },
  {
   "cell_type": "markdown",
   "metadata": {
    "colab_type": "text",
    "id": "D54eDEv6jkO4"
   },
   "source": [
    "# <font color='red'>Task 1: Implementing backpropagation and Gradient checking </font>"
   ]
  },
  {
   "cell_type": "markdown",
   "metadata": {
    "colab_type": "text",
    "id": "qocI1Vzqkod9"
   },
   "source": [
    "<font color='blue'><b>Check this video for better understanding of the computational graphs and back propagation</font>"
   ]
  },
  {
   "cell_type": "code",
   "execution_count": 11,
   "metadata": {
    "colab": {
     "base_uri": "https://localhost:8080/",
     "height": 521
    },
    "colab_type": "code",
    "id": "Wb5WMdwJinlX",
    "outputId": "b10489ec-890a-445a-c6a4-a3e0ea2a66be"
   },
   "outputs": [
    {
     "data": {
      "image/jpeg": "[encoded data removed]",
      "text/html": [
       "\n",
       "        <iframe\n",
       "            width=\"1000\"\n",
       "            height=\"500\"\n",
       "            src=\"https://www.youtube.com/embed/i94OvYb6noo\"\n",
       "            frameborder=\"0\"\n",
       "            allowfullscreen\n",
       "        ></iframe>\n",
       "        "
      ],
      "text/plain": [
       "<IPython.lib.display.YouTubeVideo at 0x108b415f8>"
      ]
     },
     "execution_count": 11,
     "metadata": {},
     "output_type": "execute_result"
    }
   ],
   "source": [
    "from IPython.display import YouTubeVideo\n",
    "YouTubeVideo('i94OvYb6noo',width=\"1000\",height=\"500\")"
   ]
  },
  {
   "cell_type": "markdown",
   "metadata": {
    "colab_type": "text",
    "id": "2jecTyVRlh-6"
   },
   "source": [
    "\n",
    "*  <b>Write two functions<br>\n",
    "    *  Forward propagation</b>(Write your code in<font color='blue'> def forward_propagation()</b></font>)<br><br>\n",
    "    For easy debugging, we will break the computational graph into 3 parts.\n",
    "\n",
    "    <font color='green'><b>Part 1</b></font></b>\n",
    "    <img src='https://i.imgur.com/0xUaxy6.png'><br><br>\n",
    "    <font color='green'><b>Part 2</b></font></b><br>\n",
    "    <img src='https://i.imgur.com/J29pAJL.png'><br><br>\n",
    "    <font color='green'><b>Part 3</b></font></b>\n",
    "    <img src='https://i.imgur.com/vMyCsd9.png'>\n",
    "\n",
    "    <pre>\n",
    "    <font color='green'>\n",
    "def forward_propagation(X, y, W):\n",
    "        <font color='grey'>\n",
    "        # X: input data point, note that in this assignment you are having 5-d data points\n",
    "        # y: output varible\n",
    "        # W: weight array, its of length 9, W[0] corresponds to w1 in graph, W[1] corresponds to w2 in graph, <br>         ..., W[8] corresponds to w9 in graph.  \n",
    "        # you have to return the following variables\n",
    "        # exp= part1 (compute the forward propagation until exp and then store the values in exp)\n",
    "        # tanh =part2(compute the forward propagation until tanh and then store the values in tanh)\n",
    "        # sig = part3(compute the forward propagation until sigmoid and then store the values in sig)\n",
    "        # now compute remaining values from computional graph and get y'\n",
    "        # write code to compute the value of L=(y-y')^2\n",
    "        # compute derivative of L  w.r.to Y' and store it in dl\n",
    "        # Create a dictionary to store all the intermediate values\n",
    "        # store L, exp,tanh,sig,dl variables\n",
    "        </font>\n",
    "        return (dictionary, which you might need to use for back propagation)\n",
    "        <font color='grey'>\n",
    "        </font>\n",
    "</font>\n",
    "</pre>\n",
    "    *  <b>Backward propagation</b>(Write your code in<font color='blue'> def backward_propagation()</b></font>)\n",
    "    </b>\n",
    "    <pre>\n",
    "    <font color='green'>\n",
    "    def backward_propagation(L, W,dictionary):\n",
    "        <font color='grey'>\n",
    "        # L: the loss we calculated for the current point\n",
    "        # dictionary: the outputs of the forward_propagation() function\n",
    "        # write code to compute the gradients of each weight [w1,w2,w3,...,w9]\n",
    "        # Hint: you can use dict type to store the required variables \n",
    "        # return dW, dW is a dictionary with gradients of all the weights\n",
    "        </font>\n",
    "        return dW\n",
    "        </font>\n",
    "</font>\n",
    "</pre>"
   ]
  },
  {
   "cell_type": "markdown",
   "metadata": {
    "colab_type": "text",
    "id": "STS4NrQQc6OH"
   },
   "source": [
    " ## <font color='red'>Gradient clipping</font>"
   ]
  },
  {
   "cell_type": "markdown",
   "metadata": {
    "colab_type": "text",
    "id": "XY7ivRNzdPok"
   },
   "source": [
    "<b> Check this  <a href='https://towardsdatascience.com/how-to-debug-a-neural-network-with-gradient-checking-41deec0357a9'>blog link</a> for more details on Gradient clipping"
   ]
  },
  {
   "cell_type": "markdown",
   "metadata": {
    "colab_type": "text",
    "id": "BrsfpDoidtZ5"
   },
   "source": [
    " we know that the derivative of any function is\n",
    " \n",
    " $$\\lim_{\\epsilon\\to0}\\frac{f(x+\\epsilon)-f(x-\\epsilon)}{2\\epsilon}$$\n"
   ]
  },
  {
   "cell_type": "markdown",
   "metadata": {
    "colab_type": "text",
    "id": "vUcmt0kPd02f"
   },
   "source": [
    "*  The definition above can be used as a numerical approximation of the derivative. Taking an epsilon small enough, the calculated approximation will have an error in the range of epsilon squared. \n",
    "\n",
    "*  In other words, if epsilon is 0.001, the approximation will be off by 0.00001.\n",
    "\n",
    "Therefore, we can use this to approximate the gradient, and in turn make sure that backpropagation is implemented properly. This forms the basis of <b>gradient checking!</b>"
   ]
  },
  {
   "cell_type": "markdown",
   "metadata": {
    "colab_type": "text",
    "id": "pFSu16KCeU0x"
   },
   "source": [
    "## <Font color='blue'>Gradient checking example</font>"
   ]
  },
  {
   "cell_type": "markdown",
   "metadata": {
    "colab_type": "text",
    "id": "Gz0mmT_xecfC"
   },
   "source": [
    "<font >\n",
    "lets understand the concept with a simple example:\n",
    "$f(w1,w2,x1,x2)=w_{1}^{2} . x_{1} + w_{2} . x_{2}$ \n",
    "\n",
    "from the above function , lets assume $w_{1}=1$, $w_{2}=2$, $x_{1}=3$, $x_{2}=4$ the gradient of $f$ w.r.t $w_{1}$ is\n",
    "\n",
    "\\begin{array} {lcl}\n",
    "\\frac{df}{dw_{1}} = dw_{1} &=&2.w_{1}.x_{1} \\\\& = &2.1.3\\\\& = &6\n",
    "\\end{array}\n",
    "\n",
    "\n",
    "let calculate the aproximate gradient of $w_{1}$ as mentinoned in the above formula and considering $\\epsilon=0.0001$\n",
    "\n",
    "\\begin{array} {lcl}\n",
    "dw_1^{approx} & = & \\frac{f(w1+\\epsilon,w2,x1,x2)-f(w1-\\epsilon,w2,x1,x2)}{2\\epsilon} \\\\ & = & \\frac{((1+0.0001)^{2} . 3 + 2 . 4) - ((1-0.0001)^{2} . 3 + 2 . 4)}{2\\epsilon} \\\\ & = & \\frac{(1.00020001 . 3 + 2 . 4) - (0.99980001. 3 + 2 . 4)}{2*0.0001} \\\\ & = & \\frac{(11.00060003) - (10.99940003)}{0.0002}\\\\ & = & 5.99999999999\n",
    "\\end{array}\n",
    "\n",
    "Then, we apply the following formula for gradient check: <i>gradient_check</i> = \n",
    "$\\frac{\\left\\Vert\\left (dW-dW^{approx}\\rm\\right) \\right\\Vert_2}{\\left\\Vert\\left (dW\\rm\\right) \\right\\Vert_2+\\left\\Vert\\left (dW^{approx}\\rm\\right) \\right\\Vert_2}$\n",
    "\n",
    "The equation above is basically the Euclidean distance normalized by the sum of the norm of the vectors. We use normalization in case that one of the vectors is very small.\n",
    "As a value for epsilon, we usually opt for 1e-7. Therefore, if gradient check return a value less than 1e-7, then it means that backpropagation was implemented correctly. Otherwise, there is potentially a mistake in your implementation. If the value exceeds 1e-3, then you are sure that the code is not correct.\n",
    "\n",
    "in our example: <i>gradient_check</i> $ = \\frac{(6 - 5.999999999994898)}{(6 + 5.999999999994898)} = 4.2514140356330737e^{-13}$\n",
    "\n",
    "you can mathamatically derive the same thing like this\n",
    "\n",
    "\\begin{array} {lcl}\n",
    "dw_1^{approx} & = & \\frac{f(w1+\\epsilon,w2,x1,x2)-f(w1-\\epsilon,w2,x1,x2)}{2\\epsilon} \\\\ & = & \\frac{((w_{1}+\\epsilon)^{2} . x_{1} + w_{2} . x_{2}) - ((w_{1}-\\epsilon)^{2} . x_{1} + w_{2} . x_{2})}{2\\epsilon} \\\\ & = & \\frac{4. \\epsilon.w_{1}. x_{1}}{2\\epsilon} \\\\ & = &  2.w_{1}.x_{1}\n",
    "\\end{array}\n"
   ]
  },
  {
   "cell_type": "markdown",
   "metadata": {
    "colab_type": "text",
    "id": "f1BFQQaCermK"
   },
   "source": [
    "## <font color='red'> Implement Gradient checking </font> <br>\n",
    " (Write your code in <font color='blue'> def gradient_checking()</font>)"
   ]
  },
  {
   "cell_type": "markdown",
   "metadata": {
    "colab_type": "text",
    "id": "GqpfA3AqfJba"
   },
   "source": [
    "**Algorithm** \n",
    "\n"
   ]
  },
  {
   "cell_type": "markdown",
   "metadata": {
    "colab_type": "text",
    "id": "FL39KeRFfNoD"
   },
   "source": [
    "<pre>\n",
    "<font color='darkblue'>\n",
    "W = initilize_randomly\n",
    "def gradient_checking(data_point, W):<font color='grey'>\n",
    "    # compute the L value using forward_propagation()\n",
    "    # compute the gradients of W using backword_propagation()</font>\n",
    "    approx_gradients = []\n",
    "    for each wi weight value in W:<font color='grey'>\n",
    "        # add a small value to weight wi, and then find the values of L with the updated weights\n",
    "        # subtract a small value to weight wi, and then find the values of L with the updated weights\n",
    "        # compute the approximation gradients of weight wi</font>\n",
    "        approx_gradients.append(approximation gradients of weight wi)<font color='grey'>\n",
    "    # compare the gradient of weights W from backword_propagation() with the aproximation gradients of weights with <br>  gradient_check formula</font>\n",
    "    return gradient_check</font>\n",
    "<b>NOTE: you can do sanity check by checking all the return values of gradient_checking(),<br> they have to be zero. if not you have bug in your code\n",
    "</pre></b>"
   ]
  },
  {
   "cell_type": "markdown",
   "metadata": {
    "colab_type": "text",
    "id": "0ufbFBFfhgL0"
   },
   "source": [
    "# <font color='red'> Task 2 : Optimizers </font>"
   ]
  },
  {
   "cell_type": "markdown",
   "metadata": {
    "colab_type": "text",
    "id": "7zt05soYh1RM"
   },
   "source": [
    "* As a part of this task, you will be implementing 3 type of optimizers(methods to update weight)\n",
    "* Use the same computational graph that was mentioned above to do this task\n",
    "* Initilze the 9 weights from normal distribution with mean=0 and std=0.01"
   ]
  },
  {
   "cell_type": "markdown",
   "metadata": {
    "colab_type": "text",
    "id": "CAyi7aSAicbr"
   },
   "source": [
    "**Check below video and <a href='https://cs231n.github.io/neural-networks-3/'>this</a> blog**"
   ]
  },
  {
   "cell_type": "code",
   "execution_count": 12,
   "metadata": {
    "colab": {
     "base_uri": "https://localhost:8080/",
     "height": 521
    },
    "colab_type": "code",
    "id": "ZogcxiegkQpz",
    "outputId": "9b4e0235-e638-4f20-d9c1-ac3ca4fb3ce8"
   },
   "outputs": [
    {
     "data": {
      "image/jpeg": "[encoded data removed]",
      "text/html": [
       "\n",
       "        <iframe\n",
       "            width=\"1000\"\n",
       "            height=\"500\"\n",
       "            src=\"https://www.youtube.com/embed/gYpoJMlgyXA\"\n",
       "            frameborder=\"0\"\n",
       "            allowfullscreen\n",
       "        ></iframe>\n",
       "        "
      ],
      "text/plain": [
       "<IPython.lib.display.YouTubeVideo at 0x1173a3978>"
      ]
     },
     "execution_count": 12,
     "metadata": {},
     "output_type": "execute_result"
    }
   ],
   "source": [
    "from IPython.display import YouTubeVideo\n",
    "YouTubeVideo('gYpoJMlgyXA',width=\"1000\",height=\"500\")"
   ]
  },
  {
   "cell_type": "markdown",
   "metadata": {
    "colab_type": "text",
    "id": "jmefh7ktjbaR"
   },
   "source": [
    "<font color='blue'><b>Algorithm</b>"
   ]
  },
  {
   "cell_type": "markdown",
   "metadata": {
    "colab_type": "text",
    "id": "nAc4NudkjdNa"
   },
   "source": [
    "<pre>\n",
    "    for each epoch(1-100):\n",
    "        for each data point in your data:\n",
    "            using the functions forward_propagation() and backword_propagation() compute the gradients of weights\n",
    "            update the weigts with help of gradients  ex: w1 = w1-learning_rate*dw1\n",
    "</pre>"
   ]
  },
  {
   "cell_type": "markdown",
   "metadata": {
    "colab_type": "text",
    "id": "_fdmPNqtjm3X"
   },
   "source": [
    "## <font color='red'> Implement below tasks</b>"
   ]
  },
  {
   "cell_type": "markdown",
   "metadata": {
    "colab_type": "text",
    "id": "Ll9-CRsLjx_D"
   },
   "source": [
    "\n",
    "*  <b>Task 2.1</b>: you will be implementing the above algorithm with <b>Vanilla update</b> of weights<br><br>\n",
    "*  <b>Task 2.2</b>: you will be implementing the above algorithm with <b>Momentum update</b> of weights<br><br>\n",
    "*  <b>Task 2.3</b>: you will be implementing the above algorithm with <b>Adam update</b> of weights\n"
   ]
  },
  {
   "cell_type": "markdown",
   "metadata": {
    "colab_type": "text",
    "id": "atp082demrUR"
   },
   "source": [
    "**Note : If you get any assertion error while running grader functions, please print the variables in grader functions and check which variable is returning False .Recheck your logic for that variable .**"
   ]
  },
  {
   "cell_type": "markdown",
   "metadata": {
    "colab_type": "text",
    "id": "phG2WDkjkuIL"
   },
   "source": [
    "<br>\n",
    "<br>\n",
    "<br>"
   ]
  },
  {
   "cell_type": "markdown",
   "metadata": {
    "colab_type": "text",
    "id": "CBaPzHP63grG"
   },
   "source": [
    "# <font color='red'>Task 1 </font>"
   ]
  },
  {
   "cell_type": "markdown",
   "metadata": {
    "colab_type": "text",
    "id": "QfmV3FUgSrBo"
   },
   "source": [
    "## <font color='blue'>Forward propagation </font>"
   ]
  },
  {
   "cell_type": "code",
   "execution_count": 13,
   "metadata": {},
   "outputs": [],
   "source": [
    "W=np.ones(10)*0.1"
   ]
  },
  {
   "cell_type": "code",
   "execution_count": 14,
   "metadata": {},
   "outputs": [
    {
     "data": {
      "text/plain": [
       "array([0.1, 0.1, 0.1, 0.1, 0.1, 0.1, 0.1, 0.1, 0.1, 0.1])"
      ]
     },
     "execution_count": 14,
     "metadata": {},
     "output_type": "execute_result"
    }
   ],
   "source": [
    "W"
   ]
  },
  {
   "cell_type": "code",
   "execution_count": 15,
   "metadata": {},
   "outputs": [
    {
     "data": {
      "text/plain": [
       "-1.288"
      ]
     },
     "execution_count": 15,
     "metadata": {},
     "output_type": "execute_result"
    }
   ],
   "source": [
    "np.round(X[0][0],3)"
   ]
  },
  {
   "cell_type": "code",
   "execution_count": 16,
   "metadata": {
    "scrolled": true
   },
   "outputs": [
    {
     "data": {
      "text/plain": [
       "-1.287909498957745"
      ]
     },
     "execution_count": 16,
     "metadata": {},
     "output_type": "execute_result"
    }
   ],
   "source": [
    "X[0][0]"
   ]
  },
  {
   "cell_type": "code",
   "execution_count": 519,
   "metadata": {},
   "outputs": [],
   "source": [
    "np.random.seed(42)"
   ]
  },
  {
   "cell_type": "markdown",
   "metadata": {},
   "source": [
    "# <img src=\"graph.png\">"
   ]
  },
  {
   "cell_type": "code",
   "execution_count": 520,
   "metadata": {
    "colab": {},
    "colab_type": "code",
    "id": "5_pBivcY30qf"
   },
   "outputs": [],
   "source": [
    "import math\n",
    "import numpy as np\n",
    "    \n",
    "def sigmoid(x):\n",
    "    '''In this function, we will compute the sigmoid(z)'''\n",
    "     # we can use this function in forward and backward propagation\n",
    "    return 1/(1 + math.exp(-x))\n",
    "def forward_propagation(X, y, W):\n",
    "    \n",
    "    \n",
    "    '''In this function, we will compute the forward propagation '''\n",
    "    one= X[0] * W[0] \n",
    "    two= X[1] * W[1]\n",
    "    one_plus_two= one + two\n",
    "    one_plus_two_squared = one_plus_two**2\n",
    "    first =one_plus_two_squared + W[5]\n",
    "    sec = math.exp(first) \n",
    "    second = sec + W[6]\n",
    "    third=np.tanh(second)\n",
    "    three=math.sin(X[2]*W[2])\n",
    "    w2x2=X[2]*W[2]\n",
    "    fourth=X[3]* W[3] + X[4] * W[4]\n",
    "    fifth= three * fourth\n",
    "    sixth=fifth+W[7]\n",
    "    seventh= sigmoid(sixth)\n",
    "    eighth=seventh*W[8]\n",
    "    y_prediction= eighth + third\n",
    "\n",
    "    loss=(y-y_prediction)**2\n",
    "    dl= - 2 * math.sqrt(loss)\n",
    "    \n",
    "    dictionary={'loss':loss,'one_plus_two':one_plus_two,'oneplustwosquare':one_plus_two_squared,'1+2 + w5':first,\n",
    "                'exp':sec,'exponent+w6':second,'tanh':third,'sin(x)':three,'x3w3+x4w4':fourth,\n",
    "                'x3w3+x4w4 * sin(x2w2)':fifth,'fifth+w7':sixth,'sigmoid':seventh,'seventh+w8':eighth,\n",
    "                'y_pred':y_prediction ,'dl':dl,'w2x2':w2x2,    \n",
    "                'W0':W[0],'W1':W[1],'W2':W[2],'W3':W[3],'W4':W[4],'W5':W[5],'W6':W[6],'W7':W[7],'W8':W[8]}\n",
    "\n",
    "\n",
    "\n",
    "    return dictionary\n",
    "\n",
    "\n",
    "\n"
   ]
  },
  {
   "cell_type": "code",
   "execution_count": 521,
   "metadata": {},
   "outputs": [],
   "source": [
    "res=forward_propagation(X[0],y[0],W)"
   ]
  },
  {
   "cell_type": "code",
   "execution_count": 522,
   "metadata": {},
   "outputs": [
    {
     "data": {
      "text/plain": [
       "{'loss': 0.9298048963072919,\n",
       " 'one_plus_two': -0.1407922915155795,\n",
       " 'oneplustwosquare': 0.01982246935020792,\n",
       " '1+2 + w5': 0.11982246935020793,\n",
       " 'exp': 1.1272967040973583,\n",
       " 'exponent+w6': 1.2272967040973584,\n",
       " 'tanh': 0.8417934192562146,\n",
       " 'sin(x)': -0.14538296400984968,\n",
       " 'x3w3+x4w4': -0.08108256415764016,\n",
       " 'x3w3+x4w4 * sin(x2w2)': 0.011788023506756527,\n",
       " 'fifth+w7': 0.11178802350675654,\n",
       " 'sigmoid': 0.5279179387419721,\n",
       " 'seventh+w8': 0.05279179387419722,\n",
       " 'y_pred': 0.8945852131304118,\n",
       " 'dl': -1.9285278284819143,\n",
       " 'w2x2': -0.14590003802772022,\n",
       " 'W0': 0.1,\n",
       " 'W1': 0.1,\n",
       " 'W2': 0.1,\n",
       " 'W3': 0.1,\n",
       " 'W4': 0.1,\n",
       " 'W5': 0.1,\n",
       " 'W6': 0.1,\n",
       " 'W7': 0.1,\n",
       " 'W8': 0.1}"
      ]
     },
     "execution_count": 522,
     "metadata": {},
     "output_type": "execute_result"
    }
   ],
   "source": [
    "res"
   ]
  },
  {
   "cell_type": "markdown",
   "metadata": {},
   "source": [
    "# <img src=\"graph.png\">"
   ]
  },
  {
   "cell_type": "code",
   "execution_count": 523,
   "metadata": {},
   "outputs": [
    {
     "name": "stdout",
     "output_type": "stream",
     "text": [
      "{'loss': 0.9298048963072919, 'one_plus_two': -0.1407922915155795, 'oneplustwosquare': 0.01982246935020792, '1+2 + w5': 0.11982246935020793, 'exp': 1.1272967040973583, 'exponent+w6': 1.2272967040973584, 'tanh': 0.8417934192562146, 'sin(x)': -0.14538296400984968, 'x3w3+x4w4': -0.08108256415764016, 'x3w3+x4w4 * sin(x2w2)': 0.011788023506756527, 'fifth+w7': 0.11178802350675654, 'sigmoid': 0.5279179387419721, 'seventh+w8': 0.05279179387419722, 'y_pred': 0.8945852131304118, 'dl': -1.9285278284819143, 'w2x2': -0.14590003802772022, 'W0': 0.1, 'W1': 0.1, 'W2': 0.1, 'W3': 0.1, 'W4': 0.1, 'W5': 0.1, 'W6': 0.1, 'W7': 0.1, 'W8': 0.1}\n"
     ]
    }
   ],
   "source": [
    "print(res)"
   ]
  },
  {
   "cell_type": "markdown",
   "metadata": {
    "colab_type": "text",
    "id": "z-z1rGKqCHNN"
   },
   "source": [
    "<font color='cyan'>Grader function - 1</font>"
   ]
  },
  {
   "cell_type": "code",
   "execution_count": 524,
   "metadata": {},
   "outputs": [
    {
     "data": {
      "text/plain": [
       "array([-1.2879095 , -0.12001342, -1.45900038, -0.66660821, -0.14421743])"
      ]
     },
     "execution_count": 524,
     "metadata": {},
     "output_type": "execute_result"
    }
   ],
   "source": [
    "X[0]"
   ]
  },
  {
   "cell_type": "code",
   "execution_count": null,
   "metadata": {},
   "outputs": [],
   "source": []
  },
  {
   "cell_type": "code",
   "execution_count": 525,
   "metadata": {
    "colab": {},
    "colab_type": "code",
    "id": "6ZxFF00zBmx1"
   },
   "outputs": [
    {
     "data": {
      "text/plain": [
       "True"
      ]
     },
     "execution_count": 525,
     "metadata": {},
     "output_type": "execute_result"
    }
   ],
   "source": [
    "def grader_sigmoid(z):\n",
    "    \n",
    "    val=sigmoid(z)\n",
    "    assert(val==0.8807970779778823)\n",
    "    return True\n",
    "grader_sigmoid(2)"
   ]
  },
  {
   "cell_type": "markdown",
   "metadata": {
    "colab_type": "text",
    "id": "KgAUXq_aChey"
   },
   "source": [
    "<font color='cyan'>Grader function - 2 </font>"
   ]
  },
  {
   "cell_type": "code",
   "execution_count": 526,
   "metadata": {
    "colab": {},
    "colab_type": "code",
    "id": "3uzsUqcjCorN"
   },
   "outputs": [
    {
     "name": "stdout",
     "output_type": "stream",
     "text": [
      "{'loss': 0.9298048963072919, 'one_plus_two': -0.1407922915155795, 'oneplustwosquare': 0.01982246935020792, '1+2 + w5': 0.11982246935020793, 'exp': 1.1272967040973583, 'exponent+w6': 1.2272967040973584, 'tanh': 0.8417934192562146, 'sin(x)': -0.14538296400984968, 'x3w3+x4w4': -0.08108256415764016, 'x3w3+x4w4 * sin(x2w2)': 0.011788023506756527, 'fifth+w7': 0.11178802350675654, 'sigmoid': 0.5279179387419721, 'seventh+w8': 0.05279179387419722, 'y_pred': 0.8945852131304118, 'dl': -1.9285278284819143, 'w2x2': -0.14590003802772022, 'W0': 0.1, 'W1': 0.1, 'W2': 0.1, 'W3': 0.1, 'W4': 0.1, 'W5': 0.1, 'W6': 0.1, 'W7': 0.1, 'W8': 0.1}\n"
     ]
    },
    {
     "data": {
      "text/plain": [
       "True"
      ]
     },
     "execution_count": 526,
     "metadata": {},
     "output_type": "execute_result"
    }
   ],
   "source": [
    "def grader_forwardprop(data):\n",
    "    dl = (np.round(data['dl'],4)==-1.9285)\n",
    "    loss=(np.round(data['loss'],4)==0.9298)\n",
    "    part1=(np.round(data['exp'],4)==1.1273)\n",
    "    part2=(np.round(data['tanh'],4)==0.8418)\n",
    "    part3=(np.round(data['sigmoid'],4)==0.5279)\n",
    "    assert(dl and loss and part1 and part2 and part3)\n",
    "    return True\n",
    "W=np.ones(9)*0.1\n",
    "d1=forward_propagation(X[0],y[0],W)\n",
    "print(d1)\n",
    "grader_forwardprop(d1)"
   ]
  },
  {
   "cell_type": "markdown",
   "metadata": {
    "colab_type": "text",
    "id": "obOaAqj3Sxvb"
   },
   "source": [
    "## <font color='blue'>Backward propagation</font>"
   ]
  },
  {
   "cell_type": "code",
   "execution_count": 527,
   "metadata": {},
   "outputs": [
    {
     "data": {
      "text/plain": [
       "-1.0181044360187037"
      ]
     },
     "execution_count": 527,
     "metadata": {},
     "output_type": "execute_result"
    }
   ],
   "source": [
    "dw9= (res['dl']*res['sigmoid']);dw9"
   ]
  },
  {
   "cell_type": "code",
   "execution_count": 528,
   "metadata": {},
   "outputs": [
    {
     "data": {
      "text/plain": [
       "-0.561941842854033"
      ]
     },
     "execution_count": 528,
     "metadata": {},
     "output_type": "execute_result"
    }
   ],
   "source": [
    "dw7= ( res['dl'] * ( 1- (res['tanh']**2)));dw7"
   ]
  },
  {
   "cell_type": "code",
   "execution_count": 529,
   "metadata": {},
   "outputs": [
    {
     "data": {
      "text/plain": [
       "-0.04806288407316517"
      ]
     },
     "execution_count": 529,
     "metadata": {},
     "output_type": "execute_result"
    }
   ],
   "source": [
    "dw8=  ( res['dl'] * res['sigmoid'] * (1-res['sigmoid']) * res['W8'] ) ;dw8"
   ]
  },
  {
   "cell_type": "code",
   "execution_count": 530,
   "metadata": {},
   "outputs": [
    {
     "data": {
      "text/plain": [
       "-0.6334751873437471"
      ]
     },
     "execution_count": 530,
     "metadata": {},
     "output_type": "execute_result"
    }
   ],
   "source": [
    "dw6= res['exp'] * res['dl']* ( 1- (res['tanh']*res['tanh']));dw6"
   ]
  },
  {
   "cell_type": "code",
   "execution_count": 531,
   "metadata": {},
   "outputs": [
    {
     "data": {
      "text/plain": [
       "-0.0010077228498574248"
      ]
     },
     "execution_count": 531,
     "metadata": {},
     "output_type": "execute_result"
    }
   ],
   "source": [
    "dw5=(dw8*X[0][4]*res['sin(x)']);dw5"
   ]
  },
  {
   "cell_type": "code",
   "execution_count": 532,
   "metadata": {},
   "outputs": [
    {
     "data": {
      "text/plain": [
       "-0.004657941222712424"
      ]
     },
     "execution_count": 532,
     "metadata": {},
     "output_type": "execute_result"
    }
   ],
   "source": [
    "dw4=(dw8*X[0][3]*res['sin(x)']);dw4"
   ]
  },
  {
   "cell_type": "code",
   "execution_count": 533,
   "metadata": {},
   "outputs": [
    {
     "data": {
      "text/plain": [
       "-0.005625405580266319"
      ]
     },
     "execution_count": 533,
     "metadata": {},
     "output_type": "execute_result"
    }
   ],
   "source": [
    "dw3= dw8 * ((res['x3w3+x4w4'])*X[0][2] * ((math.cos(res['w2x2']))));dw3\n",
    "\n",
    "\n",
    "\n"
   ]
  },
  {
   "cell_type": "code",
   "execution_count": 534,
   "metadata": {},
   "outputs": [
    {
     "data": {
      "text/plain": [
       "-0.021407614717752925"
      ]
     },
     "execution_count": 534,
     "metadata": {},
     "output_type": "execute_result"
    }
   ],
   "source": [
    "dw2= dw6 *( 2 *(res['one_plus_two']) * X[0][1] );dw2"
   ]
  },
  {
   "cell_type": "code",
   "execution_count": 535,
   "metadata": {},
   "outputs": [
    {
     "data": {
      "text/plain": [
       "-0.22973323498702003"
      ]
     },
     "execution_count": 535,
     "metadata": {},
     "output_type": "execute_result"
    }
   ],
   "source": [
    "dw1= (res['exp'] * res['dl']*( 1- (res['tanh']*res['tanh']))) * ( 2 *(res['one_plus_two']) * X[0][0] );dw1"
   ]
  },
  {
   "cell_type": "code",
   "execution_count": null,
   "metadata": {},
   "outputs": [],
   "source": []
  },
  {
   "cell_type": "code",
   "execution_count": 536,
   "metadata": {
    "colab": {},
    "colab_type": "code",
    "id": "dS49ykcOGhIv"
   },
   "outputs": [],
   "source": [
    "def backward_propagation(X,res):\n",
    "    '''In this function, we will compute the backward propagation '''\n",
    "    # L: the loss we calculated for the current point\n",
    "    # dictionary: the outputs of the forward_propagation() function\n",
    "    # write code to compute the gradients of each weight [w1,w2,w3,...,w9]\n",
    "    # Hint: you can use dict type to store the required variables \n",
    "    bck_prob_dict={}\n",
    "    dw9=(res['dl']*res['sigmoid'])\n",
    "    dw7= ( res['dl'] * ( 1- (res['tanh']**2)))\n",
    "    dw8=(res['dl']*res['sigmoid'] * (1-res['sigmoid']) * res['W8'])\n",
    "    dw6=res['exp'] * res['dl']*( 1- (res['tanh']*res['tanh']))\n",
    "    dw5=(dw8 *X[4] * res['sin(x)'])\n",
    "    dw4=(dw8*X[3]*res['sin(x)'])\n",
    "    dw3= dw8 * ((res['x3w3+x4w4'])*X[2] * ((math.cos(res['w2x2']))))\n",
    "    dw2= dw6 * ( 2 *(res['one_plus_two']) * X[1] )\n",
    "    dw1= (res['exp'] * res['dl']*( 1- (res['tanh']*res['tanh']))) * ( 2 *(res['one_plus_two']) * X[0] )\n",
    "    bck_prob_dict={'dw1':dw1,'dw2':dw2,'dw3':dw3,'dw4':dw4,'dw5':dw5,'dw6':dw6,'dw7':dw7,'dw8':dw8,'dw9':dw9,}\n",
    "    return bck_prob_dict\n",
    "    \n",
    "\n",
    "    # return dW, dW is a dictionary with gradients of all the weights"
   ]
  },
  {
   "cell_type": "markdown",
   "metadata": {},
   "source": [
    "# <img src=\"graph1.jpeg\">"
   ]
  },
  {
   "cell_type": "markdown",
   "metadata": {
    "colab_type": "text",
    "id": "2NpZWAVlS4jb"
   },
   "source": [
    "<font color='cyan'>Grader function - 3 </font>"
   ]
  },
  {
   "cell_type": "code",
   "execution_count": 537,
   "metadata": {
    "colab": {},
    "colab_type": "code",
    "id": "1a8Kll2xGhMJ"
   },
   "outputs": [
    {
     "data": {
      "text/plain": [
       "True"
      ]
     },
     "execution_count": 537,
     "metadata": {},
     "output_type": "execute_result"
    }
   ],
   "source": [
    "def grader_backprop(data):\n",
    "    dw1=(np.round(data['dw1'],4)==-0.2297)\n",
    "    dw2=(np.round(data['dw2'],4)==-0.0214)\n",
    "    dw3=(np.round(data['dw3'],4)==-0.0056)\n",
    "    dw4=(np.round(data['dw4'],4)==-0.0047)\n",
    "    dw5=(np.round(data['dw5'],4)==-0.001)\n",
    "    dw6=(np.round(data['dw6'],4)==-0.6335)\n",
    "    dw7=(np.round(data['dw7'],4)==-0.5619)\n",
    "    dw8=(np.round(data['dw8'],4)==-0.0481)\n",
    "    dw9=(np.round(data['dw9'],4)==-1.0181)\n",
    "    assert(dw1 and dw2 and dw3 and dw4 and dw5 and dw6 and dw7 and dw8 and dw9)\n",
    "    return True \n",
    "w=np.ones(9)*0.1\n",
    "d1=forward_propagation(X[0],y[0],w)\n",
    "d1=backward_propagation(X[0],d1)\n",
    "grader_backprop(d1)"
   ]
  },
  {
   "cell_type": "markdown",
   "metadata": {},
   "source": [
    "#### Testing before implementing in function"
   ]
  },
  {
   "cell_type": "code",
   "execution_count": null,
   "metadata": {},
   "outputs": [],
   "source": []
  },
  {
   "cell_type": "markdown",
   "metadata": {
    "colab_type": "text",
    "id": "1rfHHXZwgwo6"
   },
   "source": [
    "## <font color='blue'> Implement gradient checking</font>"
   ]
  },
  {
   "cell_type": "code",
   "execution_count": 538,
   "metadata": {},
   "outputs": [],
   "source": [
    "w_rand = []\n",
    "for i in range(9):\n",
    "    w_rand.append(np.random.normal()) # Generating 10 random weights\n",
    "    \n",
    "    \n"
   ]
  },
  {
   "cell_type": "code",
   "execution_count": 539,
   "metadata": {},
   "outputs": [
    {
     "data": {
      "text/plain": [
       "[0.4967141530112327,\n",
       " -0.13826430117118466,\n",
       " 0.6476885381006925,\n",
       " 1.5230298564080254,\n",
       " -0.23415337472333597,\n",
       " -0.23413695694918055,\n",
       " 1.5792128155073915,\n",
       " 0.7674347291529088,\n",
       " -0.4694743859349521]"
      ]
     },
     "execution_count": 539,
     "metadata": {},
     "output_type": "execute_result"
    }
   ],
   "source": [
    "w_rand"
   ]
  },
  {
   "cell_type": "code",
   "execution_count": 540,
   "metadata": {
    "colab": {},
    "colab_type": "code",
    "id": "oh8wj1yjGhOi"
   },
   "outputs": [],
   "source": [
    "#W = initilize_randomly\n",
    "\n",
    "\n",
    "def gradient_checking(data_point, w_rand,y):\n",
    "    frwd_prop=forward_propagation(data_point,y,w_rand)\n",
    "    bck_prop=backward_propagation(data_point,frwd_prop)\n",
    "    approx_gradients = []\n",
    "    \n",
    "    for w in w_rand:\n",
    "        \n",
    "        addition=[]\n",
    "        for x in w_rand:\n",
    "            \n",
    "            if x is w:\n",
    "                \n",
    "                addition.append(x+0.0001)\n",
    "            else:\n",
    "                addition.append(x)\n",
    "                \n",
    "        subtraction=[]        \n",
    "        for x in w_rand:\n",
    "            if x is w:\n",
    "                subtraction.append(x-0.0001)\n",
    "            else:\n",
    "                subtraction.append(x)\n",
    "        \n",
    "    \n",
    "        add_frwd=forward_propagation(data_point,y,addition)\n",
    "        sub_frwd=forward_propagation(data_point,y,subtraction)\n",
    "        approx_gradients.append((float(add_frwd['loss'] - sub_frwd['loss'])) / float(2*0.0001))\n",
    "        # implementing 𝑓(𝑤1+𝜖,𝑤2,𝑥1,𝑥2)−𝑓(𝑤1−𝜖,𝑤2,𝑥1,𝑥2)2𝜖 \n",
    "    \n",
    "  \n",
    "        \n",
    "    gradient_check=[]\n",
    "    j=0\n",
    "    for i in bck_prop:\n",
    "        gradient_check.append((abs(bck_prop[i] - approx_gradients[j])/(abs(bck_prop[i]) + abs(approx_gradients[j]))))\n",
    "        j+=1      \n",
    "    return gradient_check"
   ]
  },
  {
   "cell_type": "code",
   "execution_count": 541,
   "metadata": {
    "scrolled": true
   },
   "outputs": [],
   "source": [
    "gradient_val=gradient_checking(X[0],w_rand,y[0])"
   ]
  },
  {
   "cell_type": "code",
   "execution_count": 542,
   "metadata": {
    "scrolled": false
   },
   "outputs": [
    {
     "data": {
      "text/plain": [
       "[1.2261772545732731e-08,\n",
       " 4.3579864987100006e-13,\n",
       " 7.8912411053697e-10,\n",
       " 1.5651335458099697e-11,\n",
       " 4.692860608869471e-12,\n",
       " 5.108767188000348e-10,\n",
       " 3.313875772424683e-09,\n",
       " 2.8152150703072273e-11,\n",
       " 5.894696570472178e-14]"
      ]
     },
     "execution_count": 542,
     "metadata": {},
     "output_type": "execute_result"
    }
   ],
   "source": [
    "gradient_val"
   ]
  },
  {
   "cell_type": "code",
   "execution_count": null,
   "metadata": {},
   "outputs": [],
   "source": []
  },
  {
   "cell_type": "markdown",
   "metadata": {},
   "source": [
    "### Task 2: Optimizers\n",
    "\n",
    "1. As a part of this task, you will be implementing 3 type of optimizers(methods to update weight)\n",
    "2. check this video and blog: https://www.youtube.com/watch?v=gYpoJMlgyXA,  http://cs231n.github.io/neural-networks-3/\n",
    "3. use the same computational graph that was mentioned above to do this task\n",
    "4. initilze the 9 weights from normal distribution with mean=0 and std=0.01\n",
    "\n",
    "5. \n",
    "\n",
    "<pre>\n",
    "    for each epoch(1-100):\n",
    "        for each data point in your data:\n",
    "            using the functions forward_propagation() and backword_propagation() compute the gradients of weights\n",
    "            update the weigts with help of gradients  ex: w1 = w1-learning_rate*dw1\n",
    "</pre>\n",
    "\n",
    "6.\n",
    "\n",
    "<pre>\n",
    "<b>task 2.1</b>: you will be implementing the above algorithm with <b>Vanilla update</b> of weights\n",
    "<b>task 2.2</b>: you will be implementing the above algorithm with <b>Momentum update</b> of weights\n",
    "<b>task 2.3</b>: you will be implementing the above algorithm with <b>Adam update</b> of weights\n",
    "</pre>\n",
    "\n"
   ]
  },
  {
   "cell_type": "markdown",
   "metadata": {
    "colab_type": "text",
    "id": "jJzI-vnPk1dB"
   },
   "source": [
    "###<font color='blue'>Algorithm with Vanilla update of weights</font>"
   ]
  },
  {
   "cell_type": "code",
   "execution_count": null,
   "metadata": {},
   "outputs": [],
   "source": []
  },
  {
   "cell_type": "code",
   "execution_count": 543,
   "metadata": {},
   "outputs": [],
   "source": [
    "mean=0\n",
    "std=0.01\n",
    "w_vanilla=[]\n",
    "for i in range(9):\n",
    "    w_vanilla.append(mean+np.random.normal()*std) "
   ]
  },
  {
   "cell_type": "code",
   "execution_count": null,
   "metadata": {},
   "outputs": [],
   "source": []
  },
  {
   "cell_type": "markdown",
   "metadata": {},
   "source": [
    "# <img src=\"graph3.png\">"
   ]
  },
  {
   "cell_type": "code",
   "execution_count": 544,
   "metadata": {},
   "outputs": [],
   "source": [
    "#I have bought the book from Sentdex Neural Networks from Scratch , i referred the book to implement this\n",
    "\n",
    "#Link - https://nnfs.io/"
   ]
  },
  {
   "cell_type": "code",
   "execution_count": 545,
   "metadata": {},
   "outputs": [],
   "source": [
    "def vanilla_grad(w,X,y):\n",
    "    \n",
    "    learning_rate= 0.0001  # The alpha number in the above formula\n",
    "    loss=[] # to store loss at each iteration of epoch\n",
    "    \n",
    "    print('weights in the starting : ', w) # printing the weights before any updation\n",
    "    \n",
    "    for i in range(100):\n",
    "        \n",
    "        for j in range(len(X)):              # This will iterate through all points in the data set\n",
    "            \n",
    "            frwd=forward_propagation(X[j],y[j],w)  # Calculating forward prop of first data point\n",
    "            \n",
    "            bckwrd=backward_propagation(X[j],frwd)   # Backward prop \n",
    "            \n",
    "            k=0                # Since the stored values are in dictionary form its easy to store a variable to iterate\n",
    "            \n",
    "            for each_dw in bckwrd:\n",
    "                \n",
    "                w[k]-= learning_rate * bckwrd[each_dw]  \n",
    "                # In the first iteration , this will update the first weight by subracting wrt the gradient value\n",
    "                k+=1\n",
    "                \n",
    "        frwd2=forward_propagation(X[j],y[j],w) # the weights are updated and check the loss value with new weights\n",
    "        if len(loss) > 0:\n",
    "            if frwd2['loss'] > loss[i-1]:  \n",
    "                break\n",
    "        loss.append(frwd2['loss'])\n",
    "    print('-'*100)    \n",
    "    print('weights after updating : ', w)    \n",
    "    \n",
    "    return loss\n",
    "        \n",
    "    "
   ]
  },
  {
   "cell_type": "code",
   "execution_count": 546,
   "metadata": {},
   "outputs": [
    {
     "name": "stdout",
     "output_type": "stream",
     "text": [
      "weights in the starting :  [0.005425600435859647, -0.0046341769281246226, -0.004657297535702569, 0.002419622715660341, -0.01913280244657798, -0.01724917832513033, -0.005622875292409727, -0.010128311203344238, 0.003142473325952739]\n",
      "----------------------------------------------------------------------------------------------------\n",
      "weights after updating :  [0.009117830359417376, -0.004855038471572048, -0.0067808593523232775, 0.0012829008011495326, -0.019863549480216767, 0.46064353291394383, 0.38089584897847606, 0.28606464467211584, 1.1291600077198236]\n"
     ]
    }
   ],
   "source": [
    "Loss_vanilla=vanilla_grad(w_vanilla,X,y)"
   ]
  },
  {
   "cell_type": "code",
   "execution_count": 547,
   "metadata": {},
   "outputs": [
    {
     "data": {
      "text/plain": [
       "[0.6199585587262383,\n",
       " 0.5440789584151269,\n",
       " 0.48214971735413364,\n",
       " 0.4303151666770286,\n",
       " 0.3860504402242292,\n",
       " 0.34763949484264417,\n",
       " 0.31387776049279353,\n",
       " 0.28389556594479576,\n",
       " 0.25704930331721265,\n",
       " 0.2328520790271882,\n",
       " 0.21092819839280746,\n",
       " 0.19098249481429477,\n",
       " 0.17276338055449147,\n",
       " 0.15606140677215932,\n",
       " 0.1407265754839806,\n",
       " 0.126633548746495,\n",
       " 0.11367621129167965,\n",
       " 0.10176356780927588,\n",
       " 0.09081661353353691,\n",
       " 0.08076592510121897,\n",
       " 0.07154979165083888,\n",
       " 0.06311251808286703,\n",
       " 0.05540188839313578,\n",
       " 0.04837225701773941,\n",
       " 0.04198143502811721,\n",
       " 0.03619013645705157,\n",
       " 0.03096154200503033,\n",
       " 0.026260956066426023,\n",
       " 0.022055538087524654,\n",
       " 0.018314093132307616,\n",
       " 0.015006909513221402,\n",
       " 0.012105633674439354,\n",
       " 0.009581759383870559,\n",
       " 0.007408605785606811,\n",
       " 0.005562492957748615,\n",
       " 0.004020723436328697,\n",
       " 0.002760849766752058,\n",
       " 0.0017618358973411285,\n",
       " 0.0010046454991287264,\n",
       " 0.00047094568050486715,\n",
       " 0.00014355177543317577,\n",
       " 6.250237117049798e-06]"
      ]
     },
     "execution_count": 547,
     "metadata": {},
     "output_type": "execute_result"
    }
   ],
   "source": [
    "Loss_vanilla"
   ]
  },
  {
   "cell_type": "markdown",
   "metadata": {},
   "source": [
    "<font color='blue'>Plot between epochs and loss</font>"
   ]
  },
  {
   "cell_type": "code",
   "execution_count": 548,
   "metadata": {
    "scrolled": true
   },
   "outputs": [
    {
     "data": {
      "image/png": "[encoded data removed]",
      "text/plain": [
       "<Figure size 432x288 with 1 Axes>"
      ]
     },
     "metadata": {
      "needs_background": "light"
     },
     "output_type": "display_data"
    }
   ],
   "source": [
    "plt.plot(Loss_vanilla)\n",
    "plt.title('Vanilla_update')\n",
    "plt.xlabel('Epoch no')\n",
    "plt.ylabel('Loss')\n",
    "plt.show()"
   ]
  },
  {
   "cell_type": "markdown",
   "metadata": {},
   "source": [
    "When the Learning Rate is  0.001 it took 3 Epochs to converge, where as when LR is 0.0001 it took 40 Epochs\n",
    "\n",
    "when the LR is 0.00001 it took 100 epochs to converge "
   ]
  },
  {
   "cell_type": "code",
   "execution_count": null,
   "metadata": {
    "colab": {},
    "colab_type": "code",
    "id": "xJspU6ZuGhRQ"
   },
   "outputs": [],
   "source": []
  },
  {
   "cell_type": "markdown",
   "metadata": {
    "colab_type": "text",
    "id": "UlTLXrvmlR26"
   },
   "source": [
    "<font color='blue'>Plot between epochs and loss</font>"
   ]
  },
  {
   "cell_type": "code",
   "execution_count": 549,
   "metadata": {},
   "outputs": [],
   "source": [
    "#The difference between Normal Vanilla update and Momentum update is gama value"
   ]
  },
  {
   "cell_type": "code",
   "execution_count": 550,
   "metadata": {},
   "outputs": [],
   "source": [
    "mean=0\n",
    "std=0.01\n",
    "w_momentum=[]\n",
    "for i in range(9):\n",
    "    w_momentum.append(mean+np.random.normal()*std) "
   ]
  },
  {
   "cell_type": "code",
   "execution_count": 551,
   "metadata": {
    "colab": {},
    "colab_type": "code",
    "id": "CjTCVUIoGhTo"
   },
   "outputs": [],
   "source": [
    "def vanilla_grad_momentum(w,X,y):\n",
    "    \n",
    "    learning_rate= 0.0001  # The alpha number in the above formula\n",
    "    loss=[] # to store loss at each iteration of epoch\n",
    "    gama=0.45\n",
    "    req=np.zeros(9)\n",
    "    \n",
    "    print('weights in the starting : ', w) # printing the weights before any updation\n",
    "    \n",
    "    for i in range(100):\n",
    "        \n",
    "        for j in range(len(X)):              # This will iterate through all points in the data set\n",
    "            \n",
    "            frwd=forward_propagation(X[j],y[j],w)  # Calculating forward prop of first data point\n",
    "            \n",
    "            bckwrd=backward_propagation(X[j],frwd)   # Backward prop \n",
    "            \n",
    "            k=0                # Since the stored values are in dictionary form its easy to store a variable to iterate\n",
    "            \n",
    "            for each_dw in bckwrd:\n",
    "                req[k]= req[k]*gama  + learning_rate * bckwrd[each_dw]\n",
    "                w[k]-=  req[k]\n",
    "                # In the first iteration , this will update the first weight by subracting wrt the gradient value\n",
    "                k+=1\n",
    "                \n",
    "        frwd2=forward_propagation(X[j],y[j],w) # the weights are updated and check the loss value with new weights\n",
    "        if len(loss) > 0:\n",
    "            if frwd2['loss'] > loss[i-1]:  \n",
    "                break\n",
    "        loss.append(frwd2['loss'])\n",
    "    print('-'*100)    \n",
    "    print('weights after updating : ', w)    \n",
    "    \n",
    "    return loss"
   ]
  },
  {
   "cell_type": "code",
   "execution_count": 552,
   "metadata": {},
   "outputs": [
    {
     "name": "stdout",
     "output_type": "stream",
     "text": [
      "weights in the starting :  [-0.00908024075521211, -0.014123037013352916, 0.014656487689215542, -0.0022577630048653567, 0.0006752820468792384, -0.014247481862134568, -0.005443827245251827, 0.001109225897098661, -0.011509935774223028]\n",
      "----------------------------------------------------------------------------------------------------\n",
      "weights after updating :  [-0.05541205048067147, -0.06116106462523661, 0.014700631662751398, 0.0006205031732090863, 0.002544601746819211, 0.4637720642255398, 0.3788726217166965, 0.2968866256065088, 1.1318655814368583]\n"
     ]
    }
   ],
   "source": [
    "momentum=vanilla_grad_momentum(w_momentum,X,y)"
   ]
  },
  {
   "cell_type": "code",
   "execution_count": 553,
   "metadata": {
    "scrolled": true
   },
   "outputs": [
    {
     "data": {
      "image/png": "[encoded data removed]",
      "text/plain": [
       "<Figure size 432x288 with 1 Axes>"
      ]
     },
     "metadata": {
      "needs_background": "light"
     },
     "output_type": "display_data"
    }
   ],
   "source": [
    "plt.plot(momentum)\n",
    "plt.title('momentum')\n",
    "plt.xlabel('Epoch no')\n",
    "plt.ylabel('Loss')\n",
    "plt.show()"
   ]
  },
  {
   "cell_type": "code",
   "execution_count": 554,
   "metadata": {},
   "outputs": [],
   "source": [
    "#After trying multiple values as gama and LR, the best values of gama and LR are 0.75 and 0.0001 respectively \n",
    "# In these values the weights are converging faster and not taking larger jumps "
   ]
  },
  {
   "cell_type": "code",
   "execution_count": null,
   "metadata": {},
   "outputs": [],
   "source": []
  },
  {
   "cell_type": "markdown",
   "metadata": {},
   "source": [
    "# <img src=\"graph5.png\">"
   ]
  },
  {
   "cell_type": "markdown",
   "metadata": {},
   "source": []
  },
  {
   "cell_type": "code",
   "execution_count": 555,
   "metadata": {},
   "outputs": [],
   "source": [
    "mean=0\n",
    "std=0.01\n",
    "w_adam=[]\n",
    "for i in range(9):\n",
    "    w_adam.append(mean+np.random.normal()*std) "
   ]
  },
  {
   "cell_type": "code",
   "execution_count": 556,
   "metadata": {},
   "outputs": [],
   "source": [
    "def Adam_optimizer(w,X,y):\n",
    "    \n",
    "    learning_rate= 0.0001  # The alpha number in the above formula\n",
    "    loss=[] # to store loss at each iteration of epoch\n",
    "    beta1=0.9\n",
    "    beta2=0.99\n",
    "    epsilon=0.000001 # Small value just in case if denominator goes to 0 \n",
    "    m,v,mt,vt=list(np.zeros(9)),list(np.zeros(9)),list(np.zeros(9)),list(np.zeros(9)) # initializing everything to 0 for first iteration\n",
    "    t=0\n",
    "    print('weights in the starting : ', w) # printing the weights before any updation\n",
    "    \n",
    "    for i in range(100):\n",
    "        \n",
    "        for j in range(len(X)):              # This will iterate through all points in the data set\n",
    "            \n",
    "            frwd=forward_propagation(X[j],y[j],w)  # Calculating forward prop of first data point\n",
    "            \n",
    "            bckwrd=backward_propagation(X[j],frwd)   # Backward prop \n",
    "            \n",
    "            k=0                # Since the stored values are in dictionary form its easy to store a variable to iterate\n",
    "            t+=1\n",
    "            for each_dw in bckwrd:\n",
    "                m[k] = beta1*m[k] + (1-beta1)*bckwrd[each_dw] # replicating the exact formula as shown in the above\n",
    "                \n",
    "                mt[k] = m[k] / (1-beta1**t)\n",
    "                \n",
    "                v[k] = beta2*v[k] + (1-beta2)*(bckwrd[each_dw]**2)\n",
    "                \n",
    "                vt[k] = v[k] / (1-beta2**t)\n",
    "                \n",
    "                w[k]+= - learning_rate * mt[k] / (np.sqrt(vt[k]) + epsilon) \n",
    "                \n",
    "                # In the first iteration , this will update the first weight by subracting wrt the gradient value\n",
    "                k+=1\n",
    "                \n",
    "        frwd2=forward_propagation(X[j],y[j],w) # the weights are updated and check the loss value with new weights\n",
    "        if len(loss) > 0:\n",
    "            if frwd2['loss'] > loss[i-1]:  \n",
    "                break\n",
    "        loss.append(frwd2['loss'])\n",
    "    print('-'*100)    \n",
    "    print('weights after updating : ', w)    \n",
    "    \n",
    "    return loss"
   ]
  },
  {
   "cell_type": "code",
   "execution_count": 557,
   "metadata": {},
   "outputs": [
    {
     "name": "stdout",
     "output_type": "stream",
     "text": [
      "weights in the starting :  [0.0037569801834567195, -0.00600638689918805, -0.002916937497932768, -0.006017066122293969, 0.01852278184508938, -0.0001349722473793392, -0.010577109289559003, 0.00822544912103189, -0.012208436499710222]\n",
      "----------------------------------------------------------------------------------------------------\n",
      "weights after updating :  [-0.5745459207617136, -0.5356937240835956, -0.5542730066812633, -0.6243095652320892, -0.3529133660618318, 0.7208564461844842, 0.6791531901637097, 0.9714868156748241, 0.9339086209672969]\n"
     ]
    }
   ],
   "source": [
    "Adam=Adam_optimizer(w_adam,X,y)"
   ]
  },
  {
   "cell_type": "markdown",
   "metadata": {},
   "source": []
  },
  {
   "cell_type": "code",
   "execution_count": 558,
   "metadata": {},
   "outputs": [
    {
     "data": {
      "text/plain": [
       "[0.6119952484909023,\n",
       " 0.521150819181448,\n",
       " 0.44223122519104635,\n",
       " 0.37377646304199563,\n",
       " 0.31447625887894975,\n",
       " 0.26315891812240555,\n",
       " 0.21877330643426512,\n",
       " 0.18031013100352708,\n",
       " 0.1468678212972628,\n",
       " 0.1177832828534613,\n",
       " 0.09253385356954305,\n",
       " 0.07073942956865709,\n",
       " 0.052133981580381336,\n",
       " 0.036541110050906406,\n",
       " 0.02384746384073936,\n",
       " 0.01397021832816744,\n",
       " 0.006817055330868767,\n",
       " 0.002273733151285991,\n",
       " 0.00019025407875335217]"
      ]
     },
     "execution_count": 558,
     "metadata": {},
     "output_type": "execute_result"
    }
   ],
   "source": [
    "Adam"
   ]
  },
  {
   "cell_type": "code",
   "execution_count": 559,
   "metadata": {},
   "outputs": [
    {
     "data": {
      "image/png": "[encoded data removed]",
      "text/plain": [
       "<Figure size 432x288 with 1 Axes>"
      ]
     },
     "metadata": {
      "needs_background": "light"
     },
     "output_type": "display_data"
    }
   ],
   "source": [
    "plt.plot(Adam)\n",
    "plt.title('Adam')\n",
    "plt.xlabel('Epoch no')\n",
    "plt.ylabel('Loss')\n",
    "plt.show()"
   ]
  },
  {
   "cell_type": "markdown",
   "metadata": {},
   "source": [
    "Momentum converged faster than Vanilla and Adam converged faster than momentum"
   ]
  },
  {
   "cell_type": "code",
   "execution_count": null,
   "metadata": {},
   "outputs": [],
   "source": []
  }
 ],
 "metadata": {
  "colab": {
   "collapsed_sections": [],
   "name": "Backpropagation assignment.ipynb",
   "provenance": []
  },
  "kernelspec": {
   "display_name": "Python 3",
   "language": "python",
   "name": "python3"
  },
  "language_info": {
   "codemirror_mode": {
    "name": "ipython",
    "version": 3
   },
   "file_extension": ".py",
   "mimetype": "text/x-python",
   "name": "python",
   "nbconvert_exporter": "python",
   "pygments_lexer": "ipython3",
   "version": "3.7.3"
  }
 },
 "nbformat": 4,
 "nbformat_minor": 1
}
